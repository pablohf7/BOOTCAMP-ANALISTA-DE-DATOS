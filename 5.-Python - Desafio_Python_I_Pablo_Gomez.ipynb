{
 "cells": [
  {
   "cell_type": "markdown",
   "id": "79ac8bb4-8eaf-4421-bc77-225bfa22ed76",
   "metadata": {},
   "source": [
    "# _Desafío- Conociendo Python (Parte I)_"
   ]
  },
  {
   "cell_type": "markdown",
   "id": "87ecfaa9-b25a-4442-91ed-4671797e40a6",
   "metadata": {},
   "source": [
    "----------------------------------------------------------------------------------------------------------------------------------"
   ]
  },
  {
   "cell_type": "markdown",
   "id": "bc10eace-0ed5-4d1d-a85a-a1f9780f6c49",
   "metadata": {},
   "source": [
    "### _Pablo Alberto Gomez Prado_\n",
    "### _C.I. 0963809272_"
   ]
  },
  {
   "cell_type": "markdown",
   "id": "dafa5f2d-721b-4ff6-b959-55514602b59d",
   "metadata": {},
   "source": [
    "-----------------------------------------------------------------------------------------------------------------------------------"
   ]
  },
  {
   "cell_type": "markdown",
   "id": "ec03af24-ab77-4026-a6a4-ddb3e8ced123",
   "metadata": {},
   "source": [
    "### _1. Calculando el Salario Semanal_"
   ]
  },
  {
   "cell_type": "markdown",
   "id": "98d65082-69d4-4c62-9bdb-2c37f0fdade5",
   "metadata": {},
   "source": [
    " Un vendedor gana un salario base de $500 más una comisión del 10% sobre sus\n",
    " ventas totales. Escribe un programa donde se pueda ingresar el monto de las ventas\n",
    " totales del vendedor y calcule su salario total"
   ]
  },
  {
   "cell_type": "code",
   "execution_count": 6,
   "id": "3cdd9503-2c92-4ec2-901a-b59e8f1d05a0",
   "metadata": {},
   "outputs": [
    {
     "name": "stdin",
     "output_type": "stream",
     "text": [
      "Ingrese las ventas totales:  10000\n"
     ]
    },
    {
     "name": "stdout",
     "output_type": "stream",
     "text": [
      "El salario total en dolares es: 1500.0\n"
     ]
    }
   ],
   "source": [
    "# Asignamos el valor del salario base.\n",
    "salario_base = 500\n",
    "# Ingresamos las ventas totales.\n",
    "ventas_totales = int(input('Ingrese las ventas totales: '))\n",
    "# Hacemos el calculo del salario total.\n",
    "salario_total = salario_base + (ventas_totales*0.10)\n",
    "# Mostramos el resultado del calculo del salario total.\n",
    "print(f'El salario total en dolares es: {salario_total}')"
   ]
  },
  {
   "cell_type": "markdown",
   "id": "4f3def4e-5154-4bcf-b610-08581c21d0c5",
   "metadata": {},
   "source": [
    "---------------------------------------------------------------------------------------------------------------------------------"
   ]
  },
  {
   "cell_type": "markdown",
   "id": "ffdf56a1-bf83-47fd-b53f-5e4d6d280827",
   "metadata": {},
   "source": [
    "### 2. _Bienvenido a la Fruteria Virtual_"
   ]
  },
  {
   "cell_type": "markdown",
   "id": "21181f3f-6c9c-459e-af8d-a29a31360c1e",
   "metadata": {},
   "source": [
    " En este ejercicio, vamos a crear un diccionario vacío llamado catalogo_frutas {'fruta':\n",
    " precio} y agregar algunas frutas con sus precios. Luego, le pediremos al usuario que\n",
    " ingrese el nombre de una fruta y verificaremos si esa fruta está en el diccionario. Si\n",
    " la fruta está en el diccionario, mostraremos el precio al usuario. Si la fruta no está en\n",
    " el diccionario, le diremos al usuario que no se encuentra esa fruta en nuestra tienda."
   ]
  },
  {
   "cell_type": "code",
   "execution_count": 21,
   "id": "901d55eb-c872-4c13-a6a9-7011225c65e1",
   "metadata": {},
   "outputs": [
    {
     "name": "stdin",
     "output_type": "stream",
     "text": [
      "Ingrese el nombre de la fruta que desea consultar:  pera\n"
     ]
    },
    {
     "name": "stdout",
     "output_type": "stream",
     "text": [
      "El precio de pera es $1.80\n"
     ]
    }
   ],
   "source": [
    "# Crear un diccionario vacío\n",
    "catalogo_frutas = {}\n",
    "# Agregar algunas frutas con sus precios\n",
    "catalogo_frutas[\"manzana\"] = 1.50\n",
    "catalogo_frutas[\"banana\"] = 0.75\n",
    "catalogo_frutas[\"naranja\"] = 1.20\n",
    "catalogo_frutas[\"uva\"] = 2.00\n",
    "catalogo_frutas[\"pera\"] = 1.80\n",
    "# Pedir al usuario que ingrese el nombre de una fruta\n",
    "fruta_buscada = input(\"Ingrese el nombre de la fruta que desea consultar: \").lower()\n",
    "# Verificar si la fruta está en el diccionario\n",
    "if fruta_buscada in catalogo_frutas:\n",
    "    print(f\"El precio de {fruta_buscada} es ${catalogo_frutas[fruta_buscada]:.2f}\")\n",
    "else:\n",
    "    print(\"Lo sentimos, esa fruta no está en nuestra tienda.\")"
   ]
  },
  {
   "cell_type": "markdown",
   "id": "908a2b51-4fe3-44dc-8363-f311dea1b22a",
   "metadata": {},
   "source": [
    "---------------------------------------------------------------------------------------------------------------------------------"
   ]
  },
  {
   "cell_type": "markdown",
   "id": "5f9c4534-bc35-4281-b028-af76a334cca6",
   "metadata": {},
   "source": [
    "### 3. _Bienvenido al Casino_"
   ]
  },
  {
   "cell_type": "markdown",
   "id": "68cfb29b-8b24-429a-a540-a1a5255efc43",
   "metadata": {},
   "source": [
    " En este juego, tienes que lanzar dos dados y el programa mostrará los valores\n",
    " obtenidos en cada dado y la suma de ambos valores. Debes generar dos números\n",
    " aleatorios entre 1 y 6 que representan los valores obtenidos en cada dado usando la\n",
    " librería random. Luego, el programa debe mostrar los valores obtenidos en cada\n",
    " dado y la suma deambosvalores en la pantalla."
   ]
  },
  {
   "cell_type": "code",
   "execution_count": 38,
   "id": "560511b1-ec36-441f-a5dc-d5ce70942660",
   "metadata": {},
   "outputs": [
    {
     "name": "stdout",
     "output_type": "stream",
     "text": [
      "El valor del dado 1 es: 5\n",
      "El valor del dado 2 es: 1\n",
      "La suma de los valores de los dados es: 6\n"
     ]
    }
   ],
   "source": [
    "# Importamos la libreria random\n",
    "import random\n",
    "# Creamos una lista con numeros enteros del 1 al 6\n",
    "lista = [1,2,3,4,5,6]\n",
    "# Utilizamos la libreria random con el metodo choice para escojer un numero al azar en la lista, para cada dado.\n",
    "dado1 = random.choice(lista)\n",
    "dado2 = random.choice(lista)\n",
    "# Imprimos los numero resultante en cada dado\n",
    "print(f'El valor del dado 1 es: {dado1}')\n",
    "print(f'El valor del dado 2 es: {dado2}')\n",
    "# Sumamos los resultado de cada dado\n",
    "suma = dado1 + dado2\n",
    "# Imprimimos el resultado de la suma de los valores de los dados\n",
    "print(f'La suma de los valores de los dados es: {suma}')"
   ]
  },
  {
   "cell_type": "markdown",
   "id": "1b9c7589-06c7-4c19-a328-450046e7985c",
   "metadata": {},
   "source": [
    "---------------------------------------------------------------------------------------------------------------------------------"
   ]
  },
  {
   "cell_type": "markdown",
   "id": "cd9ed25a-d1e7-44d9-a4c9-7547fdeea353",
   "metadata": {},
   "source": [
    "### _4. Calculadora de Chocolate_"
   ]
  },
  {
   "cell_type": "markdown",
   "id": "f9950211-0253-4487-a42f-5292b47650c7",
   "metadata": {},
   "source": [
    " Crea un programa que calcule la cantidad de chocolate que puedes comer sin\n",
    " pasarte de tu límite diario de calorías. El programa debe preguntar al usuario su\n",
    " límite diario de calorías y la cantidad de calorías que tiene una porción de chocolate.\n",
    " Luego, debe calcular la cantidad máxima de chocolate que se puede comer sin\n",
    " exceder el límite diario de calorías y mostrarla en pantalla."
   ]
  },
  {
   "cell_type": "code",
   "execution_count": 41,
   "id": "3d883e34-a95c-403d-82db-7dbc4be5b956",
   "metadata": {},
   "outputs": [
    {
     "name": "stdin",
     "output_type": "stream",
     "text": [
      "Cual es tu limite diario de calorias:  100\n",
      "Cual es la cantidad de calorias que tiene un porción de chocolate:  8\n"
     ]
    },
    {
     "name": "stdout",
     "output_type": "stream",
     "text": [
      "Puedes comer un máximo de 12 porciones de chocolate sin exceder tu límite diario de calorías.\n"
     ]
    }
   ],
   "source": [
    "# Solicitar al usuario el límite diario de calorías\n",
    "limite_diario_calorias = int(input('Cual es tu limite diario de calorias: '))\n",
    "# Solicitar al usuario la cantidad de calorías por porción de chocolate\n",
    "calorias_porcion_chocolate = int(input('Cual es la cantidad de calorias que tiene un porción de chocolate: '))\n",
    "# Calcular la cantidad máxima de porciones que se pueden comer sin exceder el límite\n",
    "cantidad_maxima = limite_diario_calorias // calorias_porcion_chocolate\n",
    "# Mostrar el resultado en pantalla\n",
    "print(f\"Puedes comer un máximo de {cantidad_maxima} porciones de chocolate sin exceder tu límite diario de calorías.\")"
   ]
  }
 ],
 "metadata": {
  "kernelspec": {
   "display_name": "Python 3 (ipykernel)",
   "language": "python",
   "name": "python3"
  },
  "language_info": {
   "codemirror_mode": {
    "name": "ipython",
    "version": 3
   },
   "file_extension": ".py",
   "mimetype": "text/x-python",
   "name": "python",
   "nbconvert_exporter": "python",
   "pygments_lexer": "ipython3",
   "version": "3.10.16"
  }
 },
 "nbformat": 4,
 "nbformat_minor": 5
}
