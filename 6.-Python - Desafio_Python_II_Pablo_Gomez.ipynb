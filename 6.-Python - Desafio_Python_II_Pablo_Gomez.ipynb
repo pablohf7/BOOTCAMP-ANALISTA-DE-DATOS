{
 "cells": [
  {
   "cell_type": "markdown",
   "id": "64a80a5b-9b87-4e30-ac88-9d7386f8a111",
   "metadata": {},
   "source": [
    "# _Desafío - Conociendo Python (Parte II)_"
   ]
  },
  {
   "cell_type": "markdown",
   "id": "a1540a70-4086-4b23-9d8f-0911b354e200",
   "metadata": {},
   "source": [
    "_________________________________________________________________________________________________________"
   ]
  },
  {
   "cell_type": "markdown",
   "id": "a47b1646-39cf-406f-895e-9e95881bcebe",
   "metadata": {},
   "source": [
    "### _Pablo Alberto Gomez Prado_\n",
    "### _C.I. 0963809272_"
   ]
  },
  {
   "cell_type": "markdown",
   "id": "231d036b-3a2a-4bff-92bb-d20a3d3137e1",
   "metadata": {},
   "source": [
    "_________________________________________________________________________________________________________"
   ]
  },
  {
   "cell_type": "markdown",
   "id": "63e47bd6-7a67-494a-a8ae-884bd71afe69",
   "metadata": {},
   "source": [
    "### _Ejercicio 1: Suma de números pares_"
   ]
  },
  {
   "cell_type": "markdown",
   "id": "c289a67d-e4f7-4186-8c6a-ce447e0fee9a",
   "metadata": {},
   "source": [
    " Escribe un programa que pida al usuario dos números enteros y calcule la suma de\n",
    " todos los números pares entre ellos. El programa deberá imprimir el resultado. (hint:\n",
    " utilice la función range() para generar la secuencia de números enteros)"
   ]
  },
  {
   "cell_type": "code",
   "execution_count": 28,
   "id": "f4949dae-a9d4-4fbc-98f0-b16363bd8db2",
   "metadata": {},
   "outputs": [
    {
     "name": "stdin",
     "output_type": "stream",
     "text": [
      "Ingrese el primer numero entero:  1\n",
      "Ingrese el segundo numero entero:  10\n"
     ]
    },
    {
     "name": "stdout",
     "output_type": "stream",
     "text": [
      "La suma de los numeros pares entre los numeros ingresados es: 20\n"
     ]
    }
   ],
   "source": [
    "# Solicitamos al usuario el ingreso de los valores de los dos numeros enteros.\n",
    "num_ent1 = int(input('Ingrese el primer numero entero: '))\n",
    "num_ent2 = int(input('Ingrese el segundo numero entero: '))\n",
    "# Hacemos la compresion de la lista con el ciclo for y la función range.\n",
    "num_pares = [num for num in range(num_ent1,num_ent2) if num % 2 == 0]\n",
    "# Luego hacemos la suma de los numeros pares.\n",
    "suma_num_pares = sum(num_pares)\n",
    "# Por ultimo imprimimos el resultado de los numeros pares.\n",
    "print(f'La suma de los numeros pares entre los numeros ingresados es: {suma_num_pares}')"
   ]
  },
  {
   "cell_type": "markdown",
   "id": "bf453767-4027-45b9-b5fa-b4650f35409b",
   "metadata": {},
   "source": [
    "### _Ejercicio 2: Calculadora de áreas_"
   ]
  },
  {
   "cell_type": "markdown",
   "id": "88f34e16-3f0c-4d32-8316-ceebe42f03c9",
   "metadata": {},
   "source": [
    "Escribe un programa que pida al usuario el tipo de figura geométrica de la que quiere\n",
    " calcular el área (cuadrado, triángulo o círculo) y las medidas correspondientes. El\n",
    " programa deberá calcular y mostrar el área de la figura seleccionada. (hint: para\n",
    " obtener el número pi puedes utilizar la librería math)"
   ]
  },
  {
   "cell_type": "code",
   "execution_count": 39,
   "id": "574aedc3-f671-4955-bcc9-1e4441ee1e02",
   "metadata": {},
   "outputs": [
    {
     "name": "stdin",
     "output_type": "stream",
     "text": [
      "Indique a que figura geometria le quiere calcular el área(cuadrado, triángulo y círculo):  círculo\n"
     ]
    },
    {
     "name": "stdout",
     "output_type": "stream",
     "text": [
      "__CALCULO DEL ÁREA DEL CÍRCULO__\n"
     ]
    },
    {
     "name": "stdin",
     "output_type": "stream",
     "text": [
      "Ingrese el radio del círculo:  10\n"
     ]
    },
    {
     "name": "stdout",
     "output_type": "stream",
     "text": [
      "El área del círculo es: 314.16 m2 \n"
     ]
    }
   ],
   "source": [
    "# Importamos la libreria math.\n",
    "import math\n",
    "# Solicitamos al usuario el tipo de figura a la cual le quiere calcular el área.\n",
    "figura = input('Indique a que figura geometria le quiere calcular el área(cuadrado, triángulo y círculo): ')\n",
    "# Hacemos el calculo dependiendo de la figura seleccionada por el usuario, mediante las condicionales if, elif y else. \n",
    "if figura == 'cuadrado':\n",
    "    print('__CALCULO DEL ÁREA DEL CUADRADO__')\n",
    "    longitud_lado = float(input('Ingrese la logistud de los lados: '))\n",
    "    area_cuadrado = round(longitud_lado**2,2)\n",
    "    print(f'El área del cuadrado es: {area_cuadrado} m2')\n",
    "elif figura == 'triángulo':\n",
    "    print('__CALCULO DEL ÁREA DEL TRIÁNGULO__')\n",
    "    longitud_base = float(input('Ingrese la longitud de la base del triángulo: '))\n",
    "    altura_triangulo = float(input('Ingrese la altura del triangulo: '))\n",
    "    area_triangulo = round((longitud_base * altura_triangulo)/2,2)\n",
    "    print(f'El área del triángulo es: {area_triangulo} m2')\n",
    "elif figura == 'círculo':\n",
    "    print('__CALCULO DEL ÁREA DEL CÍRCULO__')\n",
    "    radio_circulo = float(input('Ingrese el radio del círculo: '))\n",
    "    area_circulo = round(math.pi*(radio_circulo**2),2)\n",
    "    print(f'El área del círculo es: {area_circulo} m2 ')\n",
    "# En caso que el área ingresada no corresponda a las establecidas imprime el siguiente mensaje.\n",
    "else:\n",
    "    print('La figura introducida es incorrecta, solo se puede calcular el área de un cuadrado, un triángulo o un círculo') "
   ]
  },
  {
   "cell_type": "markdown",
   "id": "bf752cc6-5fab-48f3-8ff3-6d2255e622df",
   "metadata": {},
   "source": [
    "### _Ejercicio 3: Adivina el número_"
   ]
  },
  {
   "cell_type": "markdown",
   "id": "47070510-44dc-4cf7-90b3-4343f9115018",
   "metadata": {},
   "source": [
    "Escribe un programa que genere un número aleatorio entre 1 y 100 y pida al usuario\n",
    " que adivine cuál es. El programa deberá dar pistas al usuario diciendo si el número\n",
    " que ha introducido es mayor o menor que el número aleatorio. El programa deberá\n",
    " continuar pidiendo números hasta que el usuario adivine el número correcto. (hint:\n",
    " utiliza un ciclo while para mantener al programa pidiendo números)"
   ]
  },
  {
   "cell_type": "code",
   "execution_count": 14,
   "id": "2c71aa24-5674-475d-9ea4-1e35a9529452",
   "metadata": {},
   "outputs": [
    {
     "name": "stdin",
     "output_type": "stream",
     "text": [
      "Por favor adivine el numero aleatorio entre 1 y 100:  10\n"
     ]
    },
    {
     "name": "stdout",
     "output_type": "stream",
     "text": [
      "El numero introducido es menor al numero aleatorio\n"
     ]
    },
    {
     "name": "stdin",
     "output_type": "stream",
     "text": [
      "Por favor adivine el numero aleatorio entre 1 y 100:  30\n"
     ]
    },
    {
     "name": "stdout",
     "output_type": "stream",
     "text": [
      "El numero introducido es menor al numero aleatorio\n"
     ]
    },
    {
     "name": "stdin",
     "output_type": "stream",
     "text": [
      "Por favor adivine el numero aleatorio entre 1 y 100:  50\n"
     ]
    },
    {
     "name": "stdout",
     "output_type": "stream",
     "text": [
      "El numero introducido es menor al numero aleatorio\n"
     ]
    },
    {
     "name": "stdin",
     "output_type": "stream",
     "text": [
      "Por favor adivine el numero aleatorio entre 1 y 100:  85\n"
     ]
    },
    {
     "name": "stdout",
     "output_type": "stream",
     "text": [
      "El numero introducido es mayor al numero aleatorio\n"
     ]
    },
    {
     "name": "stdin",
     "output_type": "stream",
     "text": [
      "Por favor adivine el numero aleatorio entre 1 y 100:  70\n"
     ]
    },
    {
     "name": "stdout",
     "output_type": "stream",
     "text": [
      "El numero introducido es menor al numero aleatorio\n"
     ]
    },
    {
     "name": "stdin",
     "output_type": "stream",
     "text": [
      "Por favor adivine el numero aleatorio entre 1 y 100:  75\n"
     ]
    },
    {
     "name": "stdout",
     "output_type": "stream",
     "text": [
      "El numero introducido es menor al numero aleatorio\n"
     ]
    },
    {
     "name": "stdin",
     "output_type": "stream",
     "text": [
      "Por favor adivine el numero aleatorio entre 1 y 100:  80\n"
     ]
    },
    {
     "name": "stdout",
     "output_type": "stream",
     "text": [
      "El numero introducido es mayor al numero aleatorio\n"
     ]
    },
    {
     "name": "stdin",
     "output_type": "stream",
     "text": [
      "Por favor adivine el numero aleatorio entre 1 y 100:  76\n"
     ]
    },
    {
     "name": "stdout",
     "output_type": "stream",
     "text": [
      "El numero introducido es menor al numero aleatorio\n"
     ]
    },
    {
     "name": "stdin",
     "output_type": "stream",
     "text": [
      "Por favor adivine el numero aleatorio entre 1 y 100:  78\n"
     ]
    },
    {
     "name": "stdout",
     "output_type": "stream",
     "text": [
      "Felicitaciones. Adivinaste el numero aleatorio!\n"
     ]
    }
   ],
   "source": [
    "# Importamos la libreria random y utilizamos el metodo randint para generar un numero aleatorio entre 1 y 100.\n",
    "import random\n",
    "numero_aleatorio = random.randint(1,100)\n",
    "# Inciamos el ciclo While, solicitamos al usuario un numero entre 1 y 100, ademas, usamos los condicionales if, elif y else para ayudar al usuario. \n",
    "while True:\n",
    "    numero_introducido = int(input('Por favor adivine el numero aleatorio entre 1 y 100: '))\n",
    "    if numero_introducido < numero_aleatorio:\n",
    "        print('El numero introducido es menor al numero aleatorio')\n",
    "    elif numero_introducido > numero_aleatorio:\n",
    "        print('El numero introducido es mayor al numero aleatorio')\n",
    "    else:\n",
    "        print('Felicitaciones. Adivinaste el numero aleatorio!')\n",
    "        break           "
   ]
  },
  {
   "cell_type": "markdown",
   "id": "7822b937-49f0-4d89-bdbc-8a1b52befa1f",
   "metadata": {},
   "source": [
    "### _Ejercicio 4: Carrera de pollos_"
   ]
  },
  {
   "cell_type": "markdown",
   "id": "cf85bc96-f9c2-4590-98cd-5389a1bb0ce8",
   "metadata": {},
   "source": [
    "Crea un programa que simule segundo a segundo la acción de un pollo que recorre una\n",
    "distancia de 100 metros. Pide al usuario que ingrese la velocidad a la que puede correr el\n",
    "pollo, y usando un ciclo while muestra un emoji de pollo 🐥 que se vaya moviendo hacia la\n",
    "derecha en cada impresión, como se muestra en los ejemplos."
   ]
  },
  {
   "cell_type": "code",
   "execution_count": 55,
   "id": "3f2017b4-ecb7-4a1b-b57c-ca58f9e83de3",
   "metadata": {},
   "outputs": [
    {
     "name": "stdin",
     "output_type": "stream",
     "text": [
      "Ingrese la velocidad del pollito (10 m/seg - 90 m/seg):  10\n"
     ]
    },
    {
     "name": "stdout",
     "output_type": "stream",
     "text": [
      "__________🐥 10m\n",
      "___________________🐥 20m\n",
      "______________________________🐥 30 m\n",
      "_______________________________________🐥 40m\n",
      "_________________________________________________🐥 50m\n",
      "___________________________________________________________🐥 60m\n",
      "_____________________________________________________________________🐥 70m\n",
      "______________________________________________________________________________🐥 80m\n",
      "________________________________________________________________________________________🐥 90m\n",
      "__________________________________________________________________________________________________🐥 100m\n",
      "El pollito ha llegado a la meta!🚀🐥\n"
     ]
    }
   ],
   "source": [
    "# Importamos la libreia time\n",
    "import time\n",
    "# Solicitamos al usuario ingresar la velocidad del pollito\n",
    "vel_pollito = int(input('Ingrese la velocidad del pollito (10 m/seg - 90 m/seg): '))\n",
    "# Creamos la lista con las distancias que recorre el pollito\n",
    "distancias = [10,20,30,40,50,60,70,80,90,100]\n",
    "# Iniciamos el ciclo for para alcanzar cada una de la distancias que recorre el pollito e imprimimos un mensaje cuando el pollito alcance la meta.\n",
    "for distancia in distancias:\n",
    "    time.sleep(1-(vel_pollito/100))\n",
    "    if distancia == 10:\n",
    "        print('__________🐥 10m')\n",
    "    if distancia == 20:\n",
    "        print('___________________🐥 20m')\n",
    "    if distancia == 30:\n",
    "        print('______________________________🐥 30 m')\n",
    "    if distancia == 40:\n",
    "        print('_______________________________________🐥 40m') \n",
    "    if distancia == 50:\n",
    "        print('_________________________________________________🐥 50m') \n",
    "    if distancia == 60:\n",
    "        print('___________________________________________________________🐥 60m')\n",
    "    if distancia == 70:\n",
    "        print('_____________________________________________________________________🐥 70m') \n",
    "    if distancia == 80:\n",
    "        print('______________________________________________________________________________🐥 80m') \n",
    "    if distancia == 90:\n",
    "        print('________________________________________________________________________________________🐥 90m') \n",
    "    if distancia == 100:\n",
    "        print('__________________________________________________________________________________________________🐥 100m') \n",
    "        print('El pollito ha llegado a la meta!🚀🐥')"
   ]
  }
 ],
 "metadata": {
  "kernelspec": {
   "display_name": "Python 3 (ipykernel)",
   "language": "python",
   "name": "python3"
  },
  "language_info": {
   "codemirror_mode": {
    "name": "ipython",
    "version": 3
   },
   "file_extension": ".py",
   "mimetype": "text/x-python",
   "name": "python",
   "nbconvert_exporter": "python",
   "pygments_lexer": "ipython3",
   "version": "3.10.16"
  }
 },
 "nbformat": 4,
 "nbformat_minor": 5
}
